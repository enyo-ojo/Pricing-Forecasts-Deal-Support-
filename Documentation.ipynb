{
 "cells": [
  {
   "metadata": {},
   "cell_type": "markdown",
   "source": [
    "## What does each column mean?\n",
    "\n",
    "1. produt Id - unique number for each product\n",
    "2. product category name - product group\n",
    "3. mont_year - date time stamp\n",
    "4. qty - Quantity\n",
    "5. total_price - Total price of the product (qty * unit_price)\n",
    "6. freight_price - Freight price is the rate that is given based on the mode of transportation used to deliver the product from source to destination\n",
    "7. unit_price - Unit price of the product\n",
    "8. product_name_length - Length of product name\n",
    "9. product_description_length - Length of product description\n",
    "10. product_photos_qty - Number of photos of the product\n",
    "11. product_weight_g - Weight of the product in grams\n",
    "12. product_score - Average product rating\n",
    "13. customers - Number of customer in the category\n",
    "14. Weekday - Number of weekdays in the month\n",
    "15. Weekend - Number of weekends in the month\n",
    "16. holiday - Number of holidays in the month\n",
    "18. month - Month (in number format)\n",
    "19. year - Year\n",
    "20. s - Seasonality ( Not sure how this is calculated)\n",
    "21. volume - Product volume\n",
    "22. comp_1 - Price of competitor 1\n",
    "23. ps1 - Product rating of competitior 1\n",
    "24. fp1 - Freight price of competitor 1\n",
    "25. comp_2 - Price of competitor 2\n",
    "26. ps2 - Product rating of competitor 2\n",
    "27. fp2 - Freight price of competitor 2\n",
    "28. comp_3 - Price of competitor 3\n",
    "29. ps3 - Product Rating of competitor 2\n",
    "30. fp3 - Freight price of competitor 3\n",
    "31. lag_price - Price of the product previous month"
   ],
   "id": "7f61b2f196b11452"
  },
  {
   "metadata": {},
   "cell_type": "markdown",
   "source": [
    "### 📝 Summary Statsitics\n",
    "\n",
    "- **Demand (`qty`)**: On average, products sell 14 units per month, but this varies from 1 unit to 122 units. This suggests most subcategories are low‑volume, but there are select “bestseller” items with significantly higher demand.\n",
    "- **Revenue (`total_price`)**: Average monthly subcategory revenue is ~1,423, though it can exceed 12,000 for high‑performing categories. This reinforces that a few products account for disproportionately higher revenue.\n",
    "- **Pricing (`unit_price`)**: Prices range widely from 19 to 364. While they may look like outliers at first, this spread is expected due to differing product categories. I’ll treat them as legitimate points of variation when analyzing elasticity.\n",
    "- **Customers**: On average, ~81 customers purchase per subcategory monthly, ranging from as few as 1 to over 300. This indicates some products attract much broader customer reach, while others are niche.\n",
    "- **Freight & Weight**: Freight costs average ~21 but can reach ~80, with product weights ranging from ~100g to nearly 10kg. This implies heavier items directly impact logistics cost and margin, which will be important in margin sensitivity analysis.\n",
    "- **Ratings (`product_score`)**: Most ratings cluster between 3.9–4.3, with little variation compared to competitors, suggesting pricing and demand are more important differentiators than ratings alone.\n",
    "- **Time Variables (month, year, s)**: Data is from 2017–2018, with an added `s` seasonality index (0.4–100). This confirms demand has recurring monthly patterns, which must be factored into forecasting rather than assumed random.\n"
   ],
   "id": "ffa948040cf76cfc"
  },
  {
   "metadata": {},
   "cell_type": "markdown",
   "source": [
    "## ✨Summary: Demand Exploration\n",
    "> From the demand plots, we can conclude:\n",
    "> - Demand differences across categories are large and partly explained by product positioning (mass-market vs premium).\n",
    "> - Products attract demand differently: some rely on more customers, others on larger baskets per buyer.\n",
    "> - The majority of sales volume occurs in lower-to-mid price ranges, reinforcing the importance of **pricing strategy** in the budget and mid-tier segments.\n",
    "> - Outliers at high prices (>`$250`) are valid cases of premium categories rather than errors, so they will be retained but treated separately in analysis."
   ],
   "id": "925f178dfb90495e"
  },
  {
   "metadata": {},
   "cell_type": "markdown",
   "source": [
    "## ✨Summary (Revenue & Pricing EDA)\n",
    "> - Prices are right-skewed: most products fall into a `$40–$150` range, with small premium niches above `$200`.\n",
    "> - Revenue is maximized for mid-priced products (`$80–$150`). Higher prices reduce demand so steeply that total revenue suffers.\n",
    "> - Category-level revenue is driven mainly by **demand volume**, but some categories show revenue contribution from **higher prices even at lower demand**.\n",
    "> - Outliers at the high end of the price spectrum are **valid business cases**, not errors, and should be retained for elasticity and margin sensitivity analysis."
   ],
   "id": "3b65296f139ebf5c"
  },
  {
   "metadata": {},
   "cell_type": "code",
   "outputs": [],
   "execution_count": null,
   "source": "",
   "id": "7d0fb5c69056cad9"
  }
 ],
 "metadata": {
  "kernelspec": {
   "display_name": "Python 3",
   "language": "python",
   "name": "python3"
  },
  "language_info": {
   "codemirror_mode": {
    "name": "ipython",
    "version": 2
   },
   "file_extension": ".py",
   "mimetype": "text/x-python",
   "name": "python",
   "nbconvert_exporter": "python",
   "pygments_lexer": "ipython2",
   "version": "2.7.6"
  }
 },
 "nbformat": 4,
 "nbformat_minor": 5
}
