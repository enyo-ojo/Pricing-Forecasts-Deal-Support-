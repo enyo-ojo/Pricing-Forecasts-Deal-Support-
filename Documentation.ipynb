{
 "cells": [
  {
   "metadata": {},
   "cell_type": "markdown",
   "source": [
    "What does each column mean?\n",
    "\n",
    "1. produt Id - unique number for each product\n",
    "2. product category name - product group\n",
    "3. mont_year - date time stamp\n",
    "4. qty - Quantity\n",
    "5. total_price - Total price of the product (qty * unit_price)\n",
    "6. freight_price - Freight price is the rate that is given based on the mode of transportation used to deliver the product from source to destination\n",
    "7. unit_price - Unit price of the product\n",
    "8. product_name_length - Length of product name\n",
    "9. product_description_length - Length of product description\n",
    "10. product_photos_qty - Number of photos of the product\n",
    "11. product_weight_g - Weight of the product in grams\n",
    "12. product_score - Average product rating\n",
    "13. customers - Number of customer in the category\n",
    "14. Weekday - Number of weekdays in the month\n",
    "15. Weekend - Number of weekends in the month\n",
    "16. holiday - Number of holidays in the month\n",
    "18. month - Month (in number format)\n",
    "19. year - Year\n",
    "20. s - Seasonality ( Not sure how this is calculated)\n",
    "21. volume - Product volume\n",
    "22. comp_1 - Price of competitor 1\n",
    "23. ps1 - Product rating of competitior 1\n",
    "24. fp1 - Freight price of competitor 1\n",
    "25. comp_2 - Price of competitor 2\n",
    "26. ps2 - Product rating of competitor 2\n",
    "27. fp2 - Freight price of competitor 2\n",
    "28. comp_3 - Price of competitor 3\n",
    "29. ps3 - Product Rating of competitor 2\n",
    "30. fp3 - Freight price of competitor 3\n",
    "31. lag_price - Price of the product previous month"
   ],
   "id": "7f61b2f196b11452"
  },
  {
   "metadata": {},
   "cell_type": "code",
   "outputs": [],
   "execution_count": null,
   "source": "",
   "id": "523c73a67e1dcfc0"
  }
 ],
 "metadata": {
  "kernelspec": {
   "display_name": "Python 3",
   "language": "python",
   "name": "python3"
  },
  "language_info": {
   "codemirror_mode": {
    "name": "ipython",
    "version": 2
   },
   "file_extension": ".py",
   "mimetype": "text/x-python",
   "name": "python",
   "nbconvert_exporter": "python",
   "pygments_lexer": "ipython2",
   "version": "2.7.6"
  }
 },
 "nbformat": 4,
 "nbformat_minor": 5
}
