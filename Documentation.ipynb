{
 "cells": [
  {
   "metadata": {},
   "cell_type": "markdown",
   "source": [
    "## What does each column mean?\n",
    "\n",
    "1. produt Id - unique number for each product\n",
    "2. product category name - product group\n",
    "3. mont_year - date time stamp\n",
    "4. qty - Quantity\n",
    "5. total_price - Total price of the product (qty * unit_price)\n",
    "6. freight_price - Freight price is the rate that is given based on the mode of transportation used to deliver the product from source to destination\n",
    "7. unit_price - Unit price of the product\n",
    "8. product_name_length - Length of product name\n",
    "9. product_description_length - Length of product description\n",
    "10. product_photos_qty - Number of photos of the product\n",
    "11. product_weight_g - Weight of the product in grams\n",
    "12. product_score - Average product rating\n",
    "13. customers - Number of customer in the category\n",
    "14. Weekday - Number of weekdays in the month\n",
    "15. Weekend - Number of weekends in the month\n",
    "16. holiday - Number of holidays in the month\n",
    "18. month - Month (in number format)\n",
    "19. year - Year\n",
    "20. s - Seasonality ( Not sure how this is calculated)\n",
    "21. volume - Product volume\n",
    "22. comp_1 - Price of competitor 1\n",
    "23. ps1 - Product rating of competitior 1\n",
    "24. fp1 - Freight price of competitor 1\n",
    "25. comp_2 - Price of competitor 2\n",
    "26. ps2 - Product rating of competitor 2\n",
    "27. fp2 - Freight price of competitor 2\n",
    "28. comp_3 - Price of competitor 3\n",
    "29. ps3 - Product Rating of competitor 2\n",
    "30. fp3 - Freight price of competitor 3\n",
    "31. lag_price - Price of the product previous month"
   ],
   "id": "7f61b2f196b11452"
  },
  {
   "metadata": {},
   "cell_type": "markdown",
   "source": [
    "### 📝 Summary Statsitics\n",
    "\n",
    "- **Demand (`qty`)**: On average, products sell 14 units per month, but this varies from 1 unit to 122 units. This suggests most subcategories are low‑volume, but there are select “bestseller” items with significantly higher demand.\n",
    "- **Revenue (`total_price`)**: Average monthly subcategory revenue is ~1,423, though it can exceed 12,000 for high‑performing categories. This reinforces that a few products account for disproportionately higher revenue.\n",
    "- **Pricing (`unit_price`)**: Prices range widely from 19 to 364. While they may look like outliers at first, this spread is expected due to differing product categories. I’ll treat them as legitimate points of variation when analyzing elasticity.\n",
    "- **Customers**: On average, ~81 customers purchase per subcategory monthly, ranging from as few as 1 to over 300. This indicates some products attract much broader customer reach, while others are niche.\n",
    "- **Freight & Weight**: Freight costs average ~21 but can reach ~80, with product weights ranging from ~100g to nearly 10kg. This implies heavier items directly impact logistics cost and margin, which will be important in margin sensitivity analysis.\n",
    "- **Ratings (`product_score`)**: Most ratings cluster between 3.9–4.3, with little variation compared to competitors, suggesting pricing and demand are more important differentiators than ratings alone.\n",
    "- **Time Variables (month, year, s)**: Data is from 2017–2018, with an added `s` seasonality index (0.4–100). This confirms demand has recurring monthly patterns, which must be factored into forecasting rather than assumed random.\n"
   ],
   "id": "ffa948040cf76cfc"
  },
  {
   "metadata": {},
   "cell_type": "markdown",
   "source": "## EDA",
   "id": "f5188e8495d8e0f2"
  },
  {
   "metadata": {},
   "cell_type": "markdown",
   "source": [
    "### 🔑 Summary: Demand Exploration\n",
    "> From the demand plots, we can conclude:\n",
    "> - Demand differences across categories are large and partly explained by product positioning (mass-market vs premium).\n",
    "> - Products attract demand differently: some rely on more customers, others on larger baskets per buyer.\n",
    "> - The majority of sales volume occurs in lower-to-mid price ranges, reinforcing the importance of **pricing strategy** in the budget and mid-tier segments.\n",
    "> - Outliers at high prices (>`$250`) are valid cases of premium categories rather than errors, so they will be retained but treated separately in analysis."
   ],
   "id": "925f178dfb90495e"
  },
  {
   "metadata": {},
   "cell_type": "markdown",
   "source": [
    "### 🔑 Summary (Revenue & Pricing EDA)\n",
    "> - Prices are right-skewed: most products fall into a `$40–$150` range, with small premium niches above `$200`.\n",
    "> - Revenue is maximized for mid-priced products (`$80–$150`). Higher prices reduce demand so steeply that total revenue suffers.\n",
    "> - Category-level revenue is driven mainly by **demand volume**, but some categories show revenue contribution from **higher prices even at lower demand**.\n",
    "> - Outliers at the high end of the price spectrum are **valid business cases**, not errors, and should be retained for elasticity and margin sensitivity analysis."
   ],
   "id": "3b65296f139ebf5c"
  },
  {
   "metadata": {},
   "cell_type": "markdown",
   "source": [
    "### 🔑 Summary (Competitor Benchmarking)\n",
    "\n",
    "> The competitor benchmarking analysis highlights important insights:\n",
    "> - Competitor product ratings are tightly clustered around 4.0–4.2, minimizing differentiation on perceived quality. This makes pricing a critical competitive lever.\n",
    "> - Demand tends to be higher when our products are priced **below or at par with competitor products** of similar ratings. When we’re significantly more expensive, demand is generally weaker.\n",
    "> - Strong demand is most common when **we combine competitive pricing with ratings equal to or slightly better than competitor averages.**\n",
    "> - Outlier highs in demand exist for some higher-priced products, suggesting opportunities for premium positioning on select items, though these are exceptions.\n",
    ">\n",
    "> **Strategic Implication:** The data reinforces that for a majority of categories, maintaining price competitiveness is essential – unless a product has clear differentiation in rating/quality, charging a premium reduces demand."
   ],
   "id": "171ba86a1381f58"
  },
  {
   "metadata": {},
   "cell_type": "markdown",
   "source": [
    "### 🔑 Summary (Seasonality Analysis)\n",
    "\n",
    "\n",
    "> Seasonality analysis highlights that demand and revenue are not evenly distributed across the year. Both metrics trend upward from 2017 to 2018, with evidence of stronger spikes in year‑end months. The provided seasonality index (`s`) aligns loosely with demand but does not capture all variability, reinforcing the need to model elasticity and competition jointly with seasonality. Overall, forecasting efforts should incorporate both **trend growth and recurring peaks at year‑end.**\n"
   ],
   "id": "9f69f193cad84fd9"
  },
  {
   "metadata": {},
   "cell_type": "markdown",
   "source": [
    "### 🔑 Freight/Weight/Margin Summary\n",
    "\n",
    "> **Profitability insights:**\n",
    "> - **Margins vs Demand:** High-margin products (>`250`) consistently show very low demand. Most sales are concentrated in low-to-mid margin ranges (<100). The “sweet spot” appears to be margins of 30–80, where both demand and profitability balance.\n",
    "> - **Weight vs Freight:** Freight costs scale stepwise with weight, reflecting shipping brackets. Most products fall between 500–2000g with freight `10–30`. Very heavy products (>`6000g`) often incur >$60 freight, reducing margins.\n",
    "> - **Outlier Behavior:** Some **bed_bath_table products `(~9.7kg)`** have unusually low freight prices `(9–25)`. These are likely due to flat-rate logistics contracts or category-specific shipping rules. They are **not errors** but represent important **business quirks** in freight pricing.\n",
    ">\n",
    "> **Implication:** Profitability analysis must consider product‑level logistics strategies — freight is not a pure function of weight. Pricing optimization efforts need to incorporate both the elasticity–margin trade-off and category-based freight policies."
   ],
   "id": "ddf64f5d3e6089a7"
  },
  {
   "metadata": {},
   "cell_type": "markdown",
   "source": [
    "### 🔑 Takeaways from Corr Matrix\n",
    "1. **Drop/reduce features:**\n",
    "   - `margin`, `unit_price`, and `lag_price` are redundant with extreme correlations (~0.99). Only keep 1–2.\n",
    "   - `total_price` should be treated as target, not feature.\n",
    "\n",
    "2. **Key predictors of demand:**\n",
    "   - Customers (~0.44), Seasonality (~0.41), Competitors (0.3–0.4), Own unit price (negative weak, but locally elastic).\n",
    "\n",
    "3. **Logistics important:**\n",
    "   - Weight ↔ Freight strong (0.67) → must account for freight cost in profitability optimization.\n",
    "\n",
    "4. **Ratings are noise:**\n",
    "   - Low correlation with demand. These can be deprioritized in modeling."
   ],
   "id": "7d9192b81f75ccf1"
  },
  {
   "metadata": {},
   "cell_type": "markdown",
   "source": [
    "## 📊 Final EDA Summary (Across All Sections)\n",
    "\n",
    "- **Demand & Customers:** Demand variance is wide (1–120 units). Customer base size moderately drives demand (r=0.44). Outlier categories show high units per customer (bulk buying).\n",
    "- **Revenue & Price:** Revenue peaks in mid-priced products ($80–$120). Premium products (>200) bring low demand and limited revenue.\n",
    "- **Competitor Positioning:** Ratings are largely similar (~4.0–4.2). Demand is best when our prices are lower/equal to competitors. Premium pricing rarely works unless category-unique.\n",
    "- **Seasonality:** Clear Nov–Dec spikes in both 2017 & 2018. Seasonality index (`s`) moderately explains demand shifts (0.41 corr).\n",
    "- **Logistics & Profitability:** Freight grows stepwise with weight (r=0.67). High-weight (>6kg) products often crush margins, unless subsidized categories exist (like bed_bath_table anomaly).\n",
    "- **Correlation Themes:**\n",
    "  - Qty ↔ Customers, Seasonality.\n",
    "  - Unit_price redundant with Margin & Lag.\n",
    "  - Ratings weak drivers."
   ],
   "id": "1ff16381d329216c"
  },
  {
   "metadata": {},
   "cell_type": "markdown",
   "source": [
    "---\n",
    "#### 🚦 Next Steps (Before Modeling)\n",
    "\n",
    "**1. Columns to Drop / Simplify**\n",
    "- Drop **margin** (keep unit_price as main proxy).\n",
    "- Drop **lag_price** (collinear with unit_price).\n",
    "- Drop **total_price** as feature (target only).\n",
    "- Consider **averaging competitor prices (comp_avg)** and **ratings (ps_avg)** instead of 3 separate columns.\n",
    "\n",
    "**2. Outlier Treatment**\n",
    "- **Keep price range outliers** (valid premium categories).\n",
    "- **Flag category-based anomalies** (heavy items with low freight) — don’t delete, create `freight_anomaly` boolean.\n",
    "- Remove only impossible values (negative/zero price, negative qty).\n",
    "\n",
    "**3. Skewness Transformation**\n",
    "- **Log-transform** skewed variables: `qty`, `unit_price`, `product_weight_g`, `freight_price`, `total_price`.\n",
    "- Benefits: reduces right skew, stabilizes variance, improves regression modeling.\n",
    "\n",
    "**4. Feature Engineering**\n",
    "- Relative price = (unit_price – competitors_avg).\n",
    "- Relative rating = product_score – comp_ratings_avg.\n",
    "- Revenue per customer = total_price / customers.\n",
    "- Units per customer = qty / customers.\n",
    "- Month as cyclical encoding (sin(month), cos(month)) + holiday dummy.\n",
    "- Freight_per_kg = freight_price / product_weight_g.\n",
    "\n",
    "**5. Modeling (next notebook section)**\n",
    "- **Regression/elasticity model:** log(qty) ~ log(price) + comp_avg + s + freight + customers.\n",
    "- **Forecasting:** ARIMA/Prophet on qty with seasonality.\n",
    "- **Scenario simulation:** test impact of ±10% price changes on demand, revenue, margin."
   ],
   "id": "3a958662413c19d6"
  },
  {
   "metadata": {},
   "cell_type": "markdown",
   "source": "",
   "id": "248c78b474c0b2ce"
  }
 ],
 "metadata": {
  "kernelspec": {
   "display_name": "Python 3",
   "language": "python",
   "name": "python3"
  },
  "language_info": {
   "codemirror_mode": {
    "name": "ipython",
    "version": 2
   },
   "file_extension": ".py",
   "mimetype": "text/x-python",
   "name": "python",
   "nbconvert_exporter": "python",
   "pygments_lexer": "ipython2",
   "version": "2.7.6"
  }
 },
 "nbformat": 4,
 "nbformat_minor": 5
}
